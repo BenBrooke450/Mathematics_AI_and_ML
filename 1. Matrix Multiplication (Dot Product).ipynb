{
 "cells": [
  {
   "metadata": {},
   "cell_type": "markdown",
   "source": "## Matrix Multiplication",
   "id": "5cd953e0439dfff0"
  },
  {
   "metadata": {
    "ExecuteTime": {
     "end_time": "2025-09-26T23:31:47.757546Z",
     "start_time": "2025-09-26T23:31:47.744029Z"
    }
   },
   "cell_type": "markdown",
   "source": [
    "\n",
    "# Rules for Matrix Multiplication\n",
    "\n",
    "### **1. Dimension rule (compatibility)**\n",
    "\n",
    "If\n",
    "\n",
    "$$\n",
    "A \\in \\mathbb{R}^{m \\times n}, \\quad B \\in \\mathbb{R}^{n \\times p}\n",
    "$$\n",
    "\n",
    "then their product is defined as:\n",
    "\n",
    "$$\n",
    "C = AB \\in \\mathbb{R}^{m \\times p}\n",
    "$$\n",
    "\n",
    "\n",
    "<br><br><br>\n",
    "\n",
    " **The inner dimensions must match** (the number of columns in $A$ = the number of rows in $B$).\n",
    "The result takes the **outer dimensions**.\n",
    "\n",
    "\n",
    "\n",
    "### ** Element rule (dot product)**\n",
    "\n",
    "Each entry of the result matrix $C$ is computed as:\n",
    "\n",
    "$$\n",
    "C_{ij} = \\sum_{k=1}^n A_{ik} \\cdot B_{kj}\n",
    "$$\n",
    "\n",
    "That means:\n",
    "\n",
    "* Row $i$ of $A$\n",
    "* Dot product with column $j$ of $B$.\n",
    "\n",
    "\n",
    "\n",
    "# Example\n",
    "\n",
    "Let’s multiply\n",
    "\n",
    "$$\n",
    "A = \\begin{bmatrix} 1 & 2 \\\\ 3 & 4 \\end{bmatrix}, \\quad\n",
    "B = \\begin{bmatrix} 5 & 6 \\\\ 7 & 8 \\end{bmatrix}\n",
    "$$\n",
    "\n",
    "Both are $2 \\times 2$, so result is also $2 \\times 2$.\n",
    "\n",
    "$$\n",
    "C_{11} = (1)(5) + (2)(7) = 19\n",
    "$$\n",
    "\n",
    "$$\n",
    "C_{12} = (1)(6) + (2)(8) = 22\n",
    "$$\n",
    "\n",
    "$$\n",
    "C_{21} = (3)(5) + (4)(7) = 43\n",
    "$$\n",
    "\n",
    "$$\n",
    "C_{22} = (3)(6) + (4)(8) = 50\n",
    "$$\n",
    "\n",
    "So:\n",
    "\n",
    "$$\n",
    "C = \\begin{bmatrix} 19 & 22 \\\\ 43 & 50 \\end{bmatrix}\n",
    "$$\n"
   ],
   "id": "1d11f1a590edb6df"
  },
  {
   "metadata": {
    "ExecuteTime": {
     "end_time": "2025-09-26T23:38:35.165142Z",
     "start_time": "2025-09-26T23:38:35.156795Z"
    }
   },
   "cell_type": "code",
   "source": "import torch",
   "id": "f363f329dd099774",
   "outputs": [],
   "execution_count": 26
  },
  {
   "metadata": {
    "ExecuteTime": {
     "end_time": "2025-09-26T23:38:36.372389Z",
     "start_time": "2025-09-26T23:38:36.363745Z"
    }
   },
   "cell_type": "code",
   "source": "torch.manual_seed(22)",
   "id": "67debab83d48028a",
   "outputs": [
    {
     "data": {
      "text/plain": [
       "<torch._C.Generator at 0x109094150>"
      ]
     },
     "execution_count": 27,
     "metadata": {},
     "output_type": "execute_result"
    }
   ],
   "execution_count": 27
  },
  {
   "metadata": {
    "ExecuteTime": {
     "end_time": "2025-09-26T23:33:25.413085Z",
     "start_time": "2025-09-26T23:33:25.380341Z"
    }
   },
   "cell_type": "code",
   "source": [
    "A = torch.rand(5,2)\n",
    "A"
   ],
   "id": "c86d7081a23ede0d",
   "outputs": [
    {
     "data": {
      "text/plain": [
       "tensor([[0.3659, 0.7025],\n",
       "        [0.3104, 0.0097],\n",
       "        [0.6577, 0.1947],\n",
       "        [0.9506, 0.6887],\n",
       "        [0.8174, 0.7575]])"
      ]
     },
     "execution_count": 20,
     "metadata": {},
     "output_type": "execute_result"
    }
   ],
   "execution_count": 20
  },
  {
   "metadata": {
    "ExecuteTime": {
     "end_time": "2025-09-26T23:33:25.431809Z",
     "start_time": "2025-09-26T23:33:25.427369Z"
    }
   },
   "cell_type": "code",
   "source": [
    "B = torch.rand(2,5)\n",
    "B"
   ],
   "id": "f0774c36d4bdd6ed",
   "outputs": [
    {
     "data": {
      "text/plain": [
       "tensor([[0.7492, 0.6874, 0.2564, 0.0672, 0.9066],\n",
       "        [0.9175, 0.4236, 0.7978, 0.8594, 0.3660]])"
      ]
     },
     "execution_count": 21,
     "metadata": {},
     "output_type": "execute_result"
    }
   ],
   "execution_count": 21
  },
  {
   "metadata": {
    "ExecuteTime": {
     "end_time": "2025-09-26T23:33:25.456658Z",
     "start_time": "2025-09-26T23:33:25.448579Z"
    }
   },
   "cell_type": "code",
   "source": [
    "C = torch.matmul(A,B)\n",
    "C"
   ],
   "id": "a52d639fb9e42aff",
   "outputs": [
    {
     "data": {
      "text/plain": [
       "tensor([[0.9187, 0.5491, 0.6543, 0.6284, 0.5889],\n",
       "        [0.2414, 0.2174, 0.0873, 0.0292, 0.2849],\n",
       "        [0.6714, 0.5346, 0.3239, 0.2115, 0.6675],\n",
       "        [1.3441, 0.9452, 0.7932, 0.6559, 1.1139],\n",
       "        [1.3074, 0.8827, 0.8139, 0.7060, 1.0183]])"
      ]
     },
     "execution_count": 22,
     "metadata": {},
     "output_type": "execute_result"
    }
   ],
   "execution_count": 22
  },
  {
   "metadata": {},
   "cell_type": "markdown",
   "source": [
    "\n",
    "## Transpose Matrix\n",
    "\n",
    "Now when we want to transpose a 2 dim matrix with can use the .t() function or id the dim > 2 then we need to use torch.transpose(x,0,1)"
   ],
   "id": "d4f3362dd8505bd3"
  },
  {
   "metadata": {
    "ExecuteTime": {
     "end_time": "2025-09-26T23:40:12.014138Z",
     "start_time": "2025-09-26T23:40:11.975278Z"
    }
   },
   "cell_type": "code",
   "source": "C.t()",
   "id": "b0479a9899e3d4b",
   "outputs": [
    {
     "data": {
      "text/plain": [
       "tensor([[0.9187, 0.2414, 0.6714, 1.3441, 1.3074],\n",
       "        [0.5491, 0.2174, 0.5346, 0.9452, 0.8827],\n",
       "        [0.6543, 0.0873, 0.3239, 0.7932, 0.8139],\n",
       "        [0.6284, 0.0292, 0.2115, 0.6559, 0.7060],\n",
       "        [0.5889, 0.2849, 0.6675, 1.1139, 1.0183]])"
      ]
     },
     "execution_count": 28,
     "metadata": {},
     "output_type": "execute_result"
    }
   ],
   "execution_count": 28
  },
  {
   "metadata": {},
   "cell_type": "code",
   "outputs": [],
   "execution_count": null,
   "source": "",
   "id": "9c841d6fb6f89d8f"
  }
 ],
 "metadata": {
  "kernelspec": {
   "display_name": "Python [conda env:base] *",
   "language": "python",
   "name": "conda-base-py"
  },
  "language_info": {
   "codemirror_mode": {
    "name": "ipython",
    "version": 2
   },
   "file_extension": ".py",
   "mimetype": "text/x-python",
   "name": "python",
   "nbconvert_exporter": "python",
   "pygments_lexer": "ipython2",
   "version": "2.7.6"
  }
 },
 "nbformat": 4,
 "nbformat_minor": 5
}
