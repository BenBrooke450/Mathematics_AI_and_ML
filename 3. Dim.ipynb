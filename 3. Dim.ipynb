{
 "cells": [
  {
   "metadata": {},
   "cell_type": "markdown",
   "source": "Dim argument in PyTorch controls along which axis (dimension) an operation is applied. Let’s go through it step by step with concrete examples.",
   "id": "bceab96a4de8f28"
  },
  {
   "cell_type": "code",
   "id": "initial_id",
   "metadata": {
    "collapsed": true,
    "ExecuteTime": {
     "end_time": "2025-09-26T23:53:28.627668Z",
     "start_time": "2025-09-26T23:53:27.484866Z"
    }
   },
   "source": [
    "import torch\n",
    "\n",
    "x = torch.tensor([[3, 1, 4],\n",
    "                  [2, 8, 5],\n",
    "                  [7, 6, 9]])"
   ],
   "outputs": [],
   "execution_count": 1
  },
  {
   "metadata": {
    "ExecuteTime": {
     "end_time": "2025-09-26T23:53:44.694318Z",
     "start_time": "2025-09-26T23:53:44.677815Z"
    }
   },
   "cell_type": "code",
   "source": [
    "a = torch.argmin(x)\n",
    "a"
   ],
   "id": "1d01d5b634d690c",
   "outputs": [
    {
     "data": {
      "text/plain": [
       "tensor(1)"
      ]
     },
     "execution_count": 3,
     "metadata": {},
     "output_type": "execute_result"
    }
   ],
   "execution_count": 3
  },
  {
   "metadata": {},
   "cell_type": "markdown",
   "source": "We get the answer [3], this is because the function flattens the matrix and then takes the position of the minimum",
   "id": "bb4a57897eab0cff"
  },
  {
   "metadata": {
    "ExecuteTime": {
     "end_time": "2025-09-26T23:55:41.849586Z",
     "start_time": "2025-09-26T23:55:41.820304Z"
    }
   },
   "cell_type": "code",
   "source": [
    "b = torch.argmin(x,dim=0)\n",
    "b"
   ],
   "id": "57dd0b90e15184c5",
   "outputs": [
    {
     "data": {
      "text/plain": [
       "tensor([1, 0, 0])"
      ]
     },
     "execution_count": 5,
     "metadata": {},
     "output_type": "execute_result"
    }
   ],
   "execution_count": 5
  },
  {
   "metadata": {},
   "cell_type": "markdown",
   "source": "We get [1, 0, 0], as it looks along the columns",
   "id": "690251e51a7a1105"
  },
  {
   "metadata": {
    "ExecuteTime": {
     "end_time": "2025-09-27T00:13:04.343268Z",
     "start_time": "2025-09-27T00:13:04.327580Z"
    }
   },
   "cell_type": "code",
   "source": [
    "c = torch.argmin(x,dim=1)\n",
    "c\n",
    "\n",
    "d = c.unsqueeze(1)\n",
    "d"
   ],
   "id": "fad03a8bd224e002",
   "outputs": [
    {
     "data": {
      "text/plain": [
       "tensor([[1],\n",
       "        [0],\n",
       "        [1]])"
      ]
     },
     "execution_count": 24,
     "metadata": {},
     "output_type": "execute_result"
    }
   ],
   "execution_count": 24
  },
  {
   "metadata": {},
   "cell_type": "markdown",
   "source": "We get [1, 0, 1], because we're now looking along the rows",
   "id": "a56c02b2970e14b4"
  }
 ],
 "metadata": {
  "kernelspec": {
   "display_name": "Python [conda env:base] *",
   "language": "python",
   "name": "conda-base-py"
  },
  "language_info": {
   "codemirror_mode": {
    "name": "ipython",
    "version": 2
   },
   "file_extension": ".py",
   "mimetype": "text/x-python",
   "name": "python",
   "nbconvert_exporter": "python",
   "pygments_lexer": "ipython2",
   "version": "2.7.6"
  }
 },
 "nbformat": 4,
 "nbformat_minor": 5
}
